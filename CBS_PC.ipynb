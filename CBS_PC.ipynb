{
 "cells": [
  {
   "cell_type": "code",
   "execution_count": 1,
   "id": "df97b68f",
   "metadata": {},
   "outputs": [],
   "source": [
    "import numpy as np\n",
    "import time\n",
    "import matplotlib.pyplot as plt\n",
    "import random\n",
    "from heapq import heappop, heappush"
   ]
  },
  {
   "cell_type": "code",
   "execution_count": 2,
   "id": "bf2dd630",
   "metadata": {},
   "outputs": [],
   "source": [
    "from MAPF import Map\n",
    "from MAPF import read_map_from_movingai_file, read_tasks_from_movingai_file"
   ]
  },
  {
   "cell_type": "code",
   "execution_count": 3,
   "id": "c11c1b11",
   "metadata": {},
   "outputs": [],
   "source": [
    "from Improvements import PC_CBS"
   ]
  },
  {
   "cell_type": "code",
   "execution_count": 6,
   "id": "cabfd7e8",
   "metadata": {},
   "outputs": [
    {
     "name": "stdout",
     "output_type": "stream",
     "text": [
      "Final cost 141,\n",
      "Euclidean cost 140\n"
     ]
    },
    {
     "data": {
      "image/png": "[encoded data removed]",
      "text/plain": [
       "<Figure size 360x360 with 1 Axes>"
      ]
     },
     "metadata": {
      "needs_background": "light"
     },
     "output_type": "display_data"
    }
   ],
   "source": [
    "# Один тест CBS\n",
    "\n",
    "map_file = 'tests/room-32-32-4.map'\n",
    "scen_file = 'tests/scen-even/room-32-32-4-even-19.scen'\n",
    "\n",
    "\n",
    "w, h, cells = read_map_from_movingai_file(map_file)\n",
    "tasks = read_tasks_from_movingai_file(scen_file)\n",
    "\n",
    "task_map = Map()\n",
    "task_map.SetGridCells(w, h, cells)\n",
    "\n",
    "num = 4\n",
    "\n",
    "Starts = [(item[0], item[1]) for item in tasks[2:num+2]]\n",
    "Goals = [(item[2], item[3]) for item in tasks[2:num+2]]\n",
    "\n",
    "result = PC_CBS(task_map, Starts, Goals)\n",
    "\n",
    "if result[0]:\n",
    "    print(f'Final cost {result[1].g},\\nEuclidean cost {sum([tasks[i][-1] for i in range(num)])}')\n",
    "    \n",
    "    obs_x = []\n",
    "    obs_y = []\n",
    "\n",
    "    for y, cell_y in enumerate(task_map.cells):\n",
    "        for x, cell_x in enumerate(cell_y):\n",
    "            if cell_x == 1:\n",
    "                obs_x.append(x)\n",
    "                obs_y.append(y)\n",
    "            \n",
    "    x = np.array(obs_x)\n",
    "    y = np.array(obs_y)\n",
    "\n",
    "    fig = plt.figure(figsize=(5, 5))\n",
    "    ax = fig.add_subplot(111)\n",
    "    ax.set_ylim(task_map.height, 0)\n",
    "    ax.xaxis.set_ticks_position('top')\n",
    "\n",
    "    ax.scatter(x, y, c='black', marker='s', s=50)\n",
    "    ax.set_facecolor('white')\n",
    "    ax.set_title(map_file)\n",
    "\n",
    "    color = [\"#\" + ''.join([random.choice('0123456789ABCDEF') for j in range(6)]) + ''.join(['A', '0'])\n",
    "             for i in range(num)]\n",
    "\n",
    "    for a in result[1].sol:\n",
    "        path = result[1].sol[a]\n",
    "        x = []\n",
    "        y = []\n",
    "        for node in path:\n",
    "            x.append(node.i)\n",
    "            y.append(node.j)\n",
    "        ax.scatter(x[1:-1], y[1:-1], c=color[a], marker='s', s=50)\n",
    "        ax.scatter(x[:1], y[:1], c='blue', marker='s', s=50)\n",
    "        ax.scatter(x[-1:], y[-1:], c='red', marker='s', s=50)\n",
    "\n",
    "    plt.show()"
   ]
  },
  {
   "cell_type": "code",
   "execution_count": null,
   "id": "e0ec4e79",
   "metadata": {},
   "outputs": [],
   "source": []
  },
  {
   "cell_type": "code",
   "execution_count": null,
   "id": "4bc7efde",
   "metadata": {},
   "outputs": [],
   "source": []
  }
 ],
 "metadata": {
  "kernelspec": {
   "display_name": "Python 3",
   "language": "python",
   "name": "python3"
  },
  "language_info": {
   "codemirror_mode": {
    "name": "ipython",
    "version": 3
   },
   "file_extension": ".py",
   "mimetype": "text/x-python",
   "name": "python",
   "nbconvert_exporter": "python",
   "pygments_lexer": "ipython3",
   "version": "3.8.8"
  }
 },
 "nbformat": 4,
 "nbformat_minor": 5
}
