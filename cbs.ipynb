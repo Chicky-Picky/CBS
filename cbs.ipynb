{
 "cells": [
  {
   "cell_type": "markdown",
   "metadata": {},
   "source": [
    "# CBS"
   ]
  },
  {
   "cell_type": "code",
   "execution_count": 27,
   "metadata": {},
   "outputs": [],
   "source": [
    "from os import listdir\n",
    "import numpy as np"
   ]
  },
  {
   "cell_type": "code",
   "execution_count": null,
   "metadata": {},
   "outputs": [],
   "source": [
    "def read_map_from_movingai_file(path):\n",
    "    map_file = open(path)\n",
    "    count = 0\n",
    "    name = map_file.readline()\n",
    "    height = int(map_file.readline().split()[1])\n",
    "    width = int(map_file.readline().split()[1])\n",
    "    type_ = map_file.readline()\n",
    "    cells = [[0 for _ in range(width)] for _ in range(height)]\n",
    "    \n",
    "    i = 0\n",
    "    j = 0\n",
    "\n",
    "    for l in map_file:\n",
    "        j = 0\n",
    "        for c in l:\n",
    "            if c == '.':\n",
    "                cells[i][j] = 0\n",
    "            elif c == 'T' or c == '@':\n",
    "                cells[i][j] = 1\n",
    "            else:\n",
    "                continue\n",
    "            \n",
    "            j += 1\n",
    "            \n",
    "        if j != width:\n",
    "            raise Exception(\"Size Error. Map width = \", j, \", but must be\", width, \"(map line: \", i, \")\")\n",
    "                \n",
    "        i += 1\n",
    "        if(i == height):\n",
    "            break\n",
    "    \n",
    "    return (width, height, cells)"
   ]
  },
  {
   "cell_type": "code",
   "execution_count": 31,
   "metadata": {},
   "outputs": [],
   "source": [
    "def read_tasks_from_movingai_file(path):\n",
    "    tasks = []\n",
    "    task_file = open(path)\n",
    "    for l in task_file:\n",
    "        new_task = l.split()[4:]\n",
    "        if len(new_task) != 0:\n",
    "            tasks.append(list(map(float,new_task)))\n",
    "    #возвращает числа: размеры карты, координаты начала и конца, длину пути\n",
    "    return np.array(tasks)"
   ]
  },
  {
   "cell_type": "code",
   "execution_count": 38,
   "metadata": {},
   "outputs": [
    {
     "data": {
      "text/plain": [
       "180448.62036054"
      ]
     },
     "execution_count": 38,
     "metadata": {},
     "output_type": "execute_result"
    }
   ],
   "source": [
    "task = read_tasks_from_movingai_file(\"scen-even/Berlin_1_256-even-1.scen\")\n",
    "task[:,4].sum()"
   ]
  },
  {
   "cell_type": "code",
   "execution_count": 23,
   "metadata": {},
   "outputs": [],
   "source": [
    "def massive_test(search_function, num_agents, *args):\n",
    "    stat = dict()\n",
    "    taskMap = Map()\n",
    "    \n",
    "    stat[\"corr\"] = []\n",
    "    stat[\"len\"] = []\n",
    "    stat[\"nc\"] = []\n",
    "    stat[\"st\"] = []\n",
    "    \n",
    "    #считываем карты\n",
    "    map_file_names = [\"cbs/arena0.map\",\"cbs/arena1.map\",\"cbs/arena2.map\"]\n",
    "    \n",
    "    #для каждой карты у меня есть папка заданий\n",
    "    task_file_folders = [\"cbs/scen0\",\"cbs/scen1\",\"cbs/scen1\"]\n",
    "    \n",
    "    \n",
    "    for num in range(3):\n",
    "        nodes_created = 0\n",
    "        num_steps = 0\n",
    "        correct_true = 0\n",
    "        correct_false = 0\n",
    "        error_factor = 0\n",
    "        \n",
    "        width, height, cells = read_map_from_movingai_file(map_file_names[num])\n",
    "        taskMap = Map()\n",
    "        taskMap.set_grid_cells(width,height,cells)\n",
    "        \n",
    "        #считываем файлы из нужной папки (в файле конфигурация начальная)\n",
    "        taskfiles = [f for f in listdir(task_file_folders[num])]       \n",
    "        \n",
    "        for taskCount in range(len(taskfiles)):\n",
    "            try:\n",
    "                #теперь тут уже 2Д массив для К агентов\n",
    "                task = read_tasks_from_movingai_file(taskfiles[taskCount])\n",
    "                iStarts = task[:num_agents,0].astype('int')\n",
    "                jStarts = task[:num_agents,1].astype('int')\n",
    "                iGoals = task[:num_agents,2].astype('int')\n",
    "                jGoals = task[:num_agents,3].astype('int')\n",
    "                \n",
    "                tot_length = task[:num_agents,4].sum()\n",
    "\n",
    "                result = search_function(taskMap, iStarts, jStarts, iGoals, jGoals, *args)\n",
    "\n",
    "                # хрень какая-то\n",
    "                nodesExpanded = result[2]\n",
    "                nodesOpened = result[3]\n",
    "                \n",
    "                # нашли решение\n",
    "                if result[0]:\n",
    "                    # закидываем сюда все найденные пути, в result[1] должен храниться массив \n",
    "                    # концевых вершин каждого агента\n",
    "                    paths = make_paths(result[1]) \n",
    "                    # make_paths будет возвращать в первом аргументе массив путей, а во втором их суммарную длину\n",
    "                    stat[\"len\"].append(paths[1])\n",
    "                    correct = int(path[1])  == int(length)\n",
    "                    \n",
    "                    correct_true += correct\n",
    "                    correct_false += not correct\n",
    "                    nodes_created += len(nodesOpened) + len(nodesExpanded)\n",
    "                    num_steps += len(nodesExpanded)\n",
    "                    error_factor += (int(path[1]) / int(length) - 1)*100\n",
    "                    \n",
    "                    stat[\"corr\"].append(correct)\n",
    "                    \n",
    "                else:\n",
    "                    print(\"Path not found!\")\n",
    "                    stat[\"corr\"].append(False)\n",
    "                    stat[\"len\"].append(0.0)\n",
    "\n",
    "                stat[\"nc\"].append(len(nodesOpened) + len(nodesExpanded))\n",
    "                stat[\"st\"].append(len(nodesExpanded))\n",
    "\n",
    "            except Exception as e:\n",
    "                error = error\n",
    "                print(\"Execution error\")\n",
    "                print(e)\n",
    "        print(\"Всего путей\", correct_true + correct_false, \n",
    "              \". Из них правильных: \", correct_true,\n",
    "              \" Неправильных: \", correct_false, \n",
    "              \"Среднее число созданных узлов: \", nodes_created / (correct_true + correct_false), \n",
    "              \"Среднее число шагов: \", num_steps / (correct_true + correct_false), \n",
    "              \"Средняя относительная ошибка, % : \", error_factor / (correct_true + correct_false))\n",
    "        \n",
    "        print(\"------------------------NEW MAP-------------------------\")\n",
    "\n",
    "    return stat"
   ]
  },
  {
   "cell_type": "code",
   "execution_count": null,
   "metadata": {},
   "outputs": [],
   "source": []
  }
 ],
 "metadata": {
  "kernelspec": {
   "display_name": "Python 3",
   "language": "python",
   "name": "python3"
  },
  "language_info": {
   "codemirror_mode": {
    "name": "ipython",
    "version": 3
   },
   "file_extension": ".py",
   "mimetype": "text/x-python",
   "name": "python",
   "nbconvert_exporter": "python",
   "pygments_lexer": "ipython3",
   "version": "3.8.5"
  }
 },
 "nbformat": 4,
 "nbformat_minor": 4
}
